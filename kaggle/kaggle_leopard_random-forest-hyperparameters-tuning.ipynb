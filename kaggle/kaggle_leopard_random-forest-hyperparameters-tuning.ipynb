{
 "cells": [
  {
   "cell_type": "markdown",
   "metadata": {
    "collapsed": true,
    "pycharm": {
     "name": "#%% md\n"
    }
   },
   "source": [
    "# Random Forest hyperparameters tuning\n",
    "Multiple attempts to improve their results in the local competition (Leopard Challenge) ended in failure. The best estimate (15.22102 MAPE) was obtained without any change in the data. Everything was done by CatBoost.\n",
    "\n",
    "In order to improve my knowledge and skills, I decided to reproduce and comprehend the work done by more experienced analysts. Based on the work:\n",
    "- [Random Forest hyperparameters tuning](https://www.kaggle.com/code/emanueleamcappella/random-forest-hyperparameters-tuning#Location,-location,-location-(and-size...))"
   ]
  },
  {
   "cell_type": "code",
   "execution_count": null,
   "outputs": [],
   "source": [],
   "metadata": {
    "collapsed": false,
    "pycharm": {
     "name": "#%%\n"
    }
   }
  }
 ],
 "metadata": {
  "kernelspec": {
   "display_name": "Python 3",
   "language": "python",
   "name": "python3"
  },
  "language_info": {
   "codemirror_mode": {
    "name": "ipython",
    "version": 2
   },
   "file_extension": ".py",
   "mimetype": "text/x-python",
   "name": "python",
   "nbconvert_exporter": "python",
   "pygments_lexer": "ipython2",
   "version": "2.7.6"
  }
 },
 "nbformat": 4,
 "nbformat_minor": 0
}